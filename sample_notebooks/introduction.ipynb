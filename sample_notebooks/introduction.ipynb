{
 "cells": [
  {
   "cell_type": "markdown",
   "metadata": {},
   "source": [
    "# Introduction to `pylifemap`\n",
    "\n",
    "[pylifemap](https://github.com/juba/pylifemap) is a Python package providing a Jupyter widget to visualize data using the [lifemap](https://lifemap.univ-lyon1.fr) interactive tree of life.\n",
    "\n",
    "This is a sample notebook to show some of `pylifemap` features and how to use it.\n",
    "\n",
    "## Installation\n",
    "\n",
    "For the moment the package is only available on Github. You can install it by running the following code:"
   ]
  },
  {
   "cell_type": "code",
   "execution_count": null,
   "metadata": {},
   "outputs": [],
   "source": [
    "%pip install git+https://github.com/juba/pylifemap.git"
   ]
  },
  {
   "cell_type": "markdown",
   "metadata": {},
   "source": [
    "## Sample data\n",
    "\n",
    "In this notebook we will use a sample data file generated from [The IUCN Red List of Threatened Species](https://www.gbif.org/dataset/19491596-35ae-4a91-9a98-85cf505f1bd3). It is a CSV file with the Red List category (in 2022) of more than 84000 species.\n",
    "\n",
    "We can load the file with the pandas or polars data frame libraries:"
   ]
  },
  {
   "cell_type": "code",
   "execution_count": null,
   "metadata": {},
   "outputs": [],
   "source": [
    "import polars as pl\n",
    "\n",
    "iucn = pl.read_csv(\n",
    "    \"https://raw.githubusercontent.com/juba/pylifemap/main/data/iucn.csv\"\n",
    ")"
   ]
  },
  {
   "cell_type": "markdown",
   "metadata": {},
   "source": [
    "The data set only contains two variables: the `taxid` of the species, and its `status`:"
   ]
  },
  {
   "cell_type": "code",
   "execution_count": null,
   "metadata": {},
   "outputs": [],
   "source": [
    "iucn"
   ]
  },
  {
   "cell_type": "markdown",
   "metadata": {},
   "source": [
    "Besides the full `iucn` dataset, we will create another `iucn_extinct` object with only the species with the \"Extinct\" status."
   ]
  },
  {
   "cell_type": "code",
   "execution_count": null,
   "metadata": {},
   "outputs": [],
   "source": [
    "iucn_extinct = iucn.filter(pl.col(\"status\") == \"Extinct\")\n",
    "iucn_extinct"
   ]
  },
  {
   "cell_type": "markdown",
   "metadata": {},
   "source": [
    "## Visualizing species distribution\n",
    "\n",
    "We will first try to visualize the distribution of the species in `iucn_extinct`.\n",
    "\n",
    "The first thing we have to do is to create a new `Lifemap` instance by passing it our data:"
   ]
  },
  {
   "cell_type": "code",
   "execution_count": null,
   "metadata": {},
   "outputs": [],
   "source": [
    "from pylifemap import Lifemap\n",
    "\n",
    "Lifemap(iucn_extinct)"
   ]
  },
  {
   "cell_type": "markdown",
   "metadata": {},
   "source": [
    "To visualize our data we have to add a *layer* to our `Lifemap` object. Here we can use `layer_points`, which displays each species with a colored point. We also call the `show()` method to display the result."
   ]
  },
  {
   "cell_type": "code",
   "execution_count": null,
   "metadata": {},
   "outputs": [],
   "source": [
    "Lifemap(iucn_extinct).layer_points().show()"
   ]
  },
  {
   "cell_type": "markdown",
   "metadata": {},
   "source": [
    "Another interesting layer for species distribution is `layer_screengrid`:"
   ]
  },
  {
   "cell_type": "code",
   "execution_count": null,
   "metadata": {},
   "outputs": [],
   "source": [
    "Lifemap(iucn_extinct).layer_screengrid().show()"
   ]
  },
  {
   "cell_type": "markdown",
   "metadata": {},
   "source": [
    "In our dataset we have a list of extinct species which are \"leaves\" of the tree. One thing we can do is compute the frequency of extinct species for each tree node, by aggregating the count along the branches.\n",
    "\n",
    "We can compute this by using the `aggregate_count` function on our data:"
   ]
  },
  {
   "cell_type": "code",
   "execution_count": null,
   "metadata": {},
   "outputs": [],
   "source": [
    "from pylifemap import aggregate_count\n",
    "\n",
    "iucn_extinct_agg = aggregate_count(iucn_extinct)\n",
    "iucn_extinct_agg"
   ]
  },
  {
   "cell_type": "markdown",
   "metadata": {},
   "source": [
    "We can visualize this new dataset with a `layer_points`. But it is more interesting visually if we make the size and the color of the points depend on their associated count. This is possible by using the `radius_col` and `fill_col` arguments:"
   ]
  },
  {
   "cell_type": "code",
   "execution_count": null,
   "metadata": {},
   "outputs": [],
   "source": [
    "Lifemap(iucn_extinct_agg).layer_points(radius_col=\"n\", fill_col=\"n\").show()"
   ]
  },
  {
   "cell_type": "markdown",
   "metadata": {},
   "source": [
    "And we can add a second layer to also color the branches depending on the species frequencies:"
   ]
  },
  {
   "cell_type": "code",
   "execution_count": null,
   "metadata": {},
   "outputs": [],
   "source": [
    "(\n",
    "    Lifemap(iucn_extinct_agg)\n",
    "    .layer_lines(width_col=\"n\", color_col=\"n\")\n",
    "    .layer_points(radius_col=\"n\", fill_col=\"n\")\n",
    "    .show()\n",
    ")"
   ]
  },
  {
   "cell_type": "markdown",
   "metadata": {},
   "source": [
    "## Visualizing a categorical variable\n",
    "\n",
    "Instead of displaying the count of a specific status, we may want to try to visualize the repartition of the different status values in the full `iucn` dataset.\n",
    "\n",
    "To do this we could color the points according to the status value. This can be done with the `fill_col` argument:\n"
   ]
  },
  {
   "cell_type": "code",
   "execution_count": null,
   "metadata": {},
   "outputs": [],
   "source": [
    "Lifemap(iucn).layer_points(fill_col=\"status\", opacity=.2).show()"
   ]
  },
  {
   "cell_type": "markdown",
   "metadata": {},
   "source": [
    "Another possibility is to make an another aggregation along the tree branches, this time to compute the frequencies of the different statuses at each node. This can ben done with the `aggregate_cat` function."
   ]
  },
  {
   "cell_type": "code",
   "execution_count": null,
   "metadata": {},
   "outputs": [],
   "source": [
    "from pylifemap import aggregate_freq\n",
    "\n",
    "iucn_agg = aggregate_freq(iucn, \"status\")"
   ]
  },
  {
   "cell_type": "markdown",
   "metadata": {},
   "source": [
    "We can then visualize this data as a series of donut charts. You can click on a chart to display a popup with more informations:"
   ]
  },
  {
   "cell_type": "code",
   "execution_count": null,
   "metadata": {},
   "outputs": [],
   "source": [
    "Lifemap(iucn_agg).layer_donuts(\"status\").show()"
   ]
  }
 ],
 "metadata": {
  "kernelspec": {
   "display_name": "Python 3 (ipykernel)",
   "language": "python",
   "name": "python3"
  },
  "language_info": {
   "codemirror_mode": {
    "name": "ipython",
    "version": 3
   },
   "file_extension": ".py",
   "mimetype": "text/x-python",
   "name": "python",
   "nbconvert_exporter": "python",
   "pygments_lexer": "ipython3",
   "version": "3.11.7"
  }
 },
 "nbformat": 4,
 "nbformat_minor": 4
}
